{
  "nbformat": 4,
  "nbformat_minor": 0,
  "metadata": {
    "colab": {
      "provenance": []
    },
    "kernelspec": {
      "name": "python3",
      "display_name": "Python 3"
    },
    "language_info": {
      "name": "python"
    }
  },
  "cells": [
    {
      "cell_type": "code",
      "execution_count": 1,
      "metadata": {
        "id": "NP9Gr87fo-p6"
      },
      "outputs": [],
      "source": [
        "import seaborn as sns"
      ]
    },
    {
      "cell_type": "code",
      "source": [
        "df =sns.load_dataset('tips')"
      ],
      "metadata": {
        "id": "VLVw5i9YpKkh"
      },
      "execution_count": 3,
      "outputs": []
    },
    {
      "cell_type": "code",
      "source": [
        "total_bill = list(df['total_bill'])"
      ],
      "metadata": {
        "id": "bLz9vI19pSQY"
      },
      "execution_count": 4,
      "outputs": []
    },
    {
      "cell_type": "code",
      "source": [
        "import numpy as np\n",
        "mean = np.mean(total_bill)\n",
        "std = np.std(total_bill)"
      ],
      "metadata": {
        "id": "y3a4RM5dpd4y"
      },
      "execution_count": 6,
      "outputs": []
    },
    {
      "cell_type": "code",
      "source": [
        "mean"
      ],
      "metadata": {
        "colab": {
          "base_uri": "https://localhost:8080/"
        },
        "id": "TeSWQ3Hlp3pr",
        "outputId": "5039f1b0-e6ff-4d34-bc1b-6d9f497e2bed"
      },
      "execution_count": 7,
      "outputs": [
        {
          "output_type": "execute_result",
          "data": {
            "text/plain": [
              "19.78594262295082"
            ]
          },
          "metadata": {},
          "execution_count": 7
        }
      ]
    },
    {
      "cell_type": "code",
      "source": [
        "std"
      ],
      "metadata": {
        "colab": {
          "base_uri": "https://localhost:8080/"
        },
        "id": "GRRQQ9G7p5sR",
        "outputId": "874fb824-ee0e-4d13-862c-1abeb810d916"
      },
      "execution_count": 8,
      "outputs": [
        {
          "output_type": "execute_result",
          "data": {
            "text/plain": [
              "8.884150577771132"
            ]
          },
          "metadata": {},
          "execution_count": 8
        }
      ]
    },
    {
      "cell_type": "code",
      "source": [
        "normalised_data = []\n",
        "for i in total_bill:\n",
        "    normalised_data.append((i-mean)/std)\n"
      ],
      "metadata": {
        "id": "MOoEy1Y1p8TF"
      },
      "execution_count": 9,
      "outputs": []
    },
    {
      "cell_type": "code",
      "source": [
        "normalised_data"
      ],
      "metadata": {
        "colab": {
          "base_uri": "https://localhost:8080/"
        },
        "id": "LiueU6kxqNJP",
        "outputId": "7f356be1-090e-4f51-e21d-06f7e8ee740c"
      },
      "execution_count": 10,
      "outputs": [
        {
          "output_type": "execute_result",
          "data": {
            "text/plain": [
              "[-0.3147113050904943,\n",
              " -1.0632353132988692,\n",
              " 0.13777989987156145,\n",
              " 0.43831510316725475,\n",
              " 0.540744704290506,\n",
              " 0.6195367051545455,\n",
              " -1.2399545152367863,\n",
              " 0.7985071071171495,\n",
              " -0.5342033074974614,\n",
              " -0.5634689078183903,\n",
              " -1.0711145133852733,\n",
              " 1.7417599174609364,\n",
              " -0.49143050702841123,\n",
              " -0.15262490331304146,\n",
              " -0.557840907756673,\n",
              " 0.2019391005751361,\n",
              " -1.0643609133112126,\n",
              " -0.3935033059545337,\n",
              " -0.31696250511518104,\n",
              " 0.09725829942719795,\n",
              " -0.2100305039425557,\n",
              " 0.05673669898283484,\n",
              " -0.45203450659639155,\n",
              " 2.2100095225958003,\n",
              " 0.003833498402694168,\n",
              " -0.2224121040783337,\n",
              " -0.7221785095588127,\n",
              " -0.7987193103981653,\n",
              " 0.21544630072325727,\n",
              " -0.015301701807144186,\n",
              " -1.1521577142739994,\n",
              " -0.16162970341178864,\n",
              " -0.5319521074727743,\n",
              " 0.10176069947657193,\n",
              " -0.22578890411536368,\n",
              " 0.4810879036363046,\n",
              " -0.3912521059298469,\n",
              " -0.32146490516455467,\n",
              " -0.12335930299211233,\n",
              " 1.2926455125359115,\n",
              " -0.4216433062631192,\n",
              " -0.2618081045103532,\n",
              " -0.6580193088552376,\n",
              " -1.137524914113535,\n",
              " 1.1947183114620337,\n",
              " -0.16838330348584943,\n",
              " 0.2751031013774587,\n",
              " 1.419838313930718,\n",
              " 0.986482309178501,\n",
              " -0.19652330379443494,\n",
              " -0.8156033105833167,\n",
              " -1.0688633133605865,\n",
              " 1.691107916905483,\n",
              " -1.1082593137926062,\n",
              " 0.6499279054878179,\n",
              " -0.03331130200463894,\n",
              " 2.051299920855377,\n",
              " 0.7456039065370088,\n",
              " -0.9619313121879614,\n",
              " 3.206165533519728,\n",
              " 0.05673669898283484,\n",
              " -0.672652109015702,\n",
              " -0.9866945124595167,\n",
              " -0.16838330348584943,\n",
              " -0.24717530434988882,\n",
              " 0.0330990987236229,\n",
              " -0.37549370575703894,\n",
              " -1.8815465222725365,\n",
              " 0.049983098908774455,\n",
              " -0.5375801075344916,\n",
              " -0.8741345112251745,\n",
              " -0.3057065049917467,\n",
              " 0.7962559070924626,\n",
              " 0.6184111051422023,\n",
              " -0.5690969078801073,\n",
              " -1.044100113089031,\n",
              " -0.2100305039425557,\n",
              " 0.834526307512139,\n",
              " 0.3347599020316602,\n",
              " -0.2809433047201916,\n",
              " -0.03893930206635573,\n",
              " -0.351856105497827,\n",
              " -1.0936265136321417,\n",
              " 1.451355114276334,\n",
              " -0.4283969063371796,\n",
              " 1.6933591169301694,\n",
              " -0.760448909978489,\n",
              " -0.16950890349819261,\n",
              " 0.5542519044386273,\n",
              " 0.1546639000567126,\n",
              " 1.0337575096969245,\n",
              " 0.3043687016983874,\n",
              " -1.5798857189644997,\n",
              " -0.3901265059175033,\n",
              " 0.3336343020193166,\n",
              " 2.294429523521557,\n",
              " 0.8435311076108866,\n",
              " -0.8730089112128311,\n",
              " 0.13777989987156145,\n",
              " -0.8246081106820639,\n",
              " -0.9495497120521837,\n",
              " -0.4959329070777848,\n",
              " 2.759302328619389,\n",
              " 0.29648950161198384,\n",
              " 0.12764949976047066,\n",
              " -0.49818410710247185,\n",
              " 0.07924869922970319,\n",
              " 0.6105319050557984,\n",
              " -0.1740113035475666,\n",
              " -0.616372108398531,\n",
              " -0.6512657087811771,\n",
              " -1.4110457171129864,\n",
              " 2.058053520929438,\n",
              " 0.46870630350052706,\n",
              " 0.6668119056729693,\n",
              " -0.27869210469550476,\n",
              " 1.141815110881893,\n",
              " -1.0283417129162231,\n",
              " -0.8279849107190942,\n",
              " 0.4833391036609914,\n",
              " -0.9112793116325074,\n",
              " -0.7165505094970955,\n",
              " -0.6220001084602481,\n",
              " -0.43177370637421,\n",
              " -0.822356910657377,\n",
              " 1.1271823107214287,\n",
              " -1.268094515545372,\n",
              " -0.5927345081393192,\n",
              " -0.9461729120151534,\n",
              " 0.34151350210572057,\n",
              " -0.07946090251071923,\n",
              " 0.05448549895814805,\n",
              " -0.9698105122743653,\n",
              " -0.8471201109289324,\n",
              " -0.1717601035228794,\n",
              " -1.2692201155577154,\n",
              " -1.0643609133112126,\n",
              " -0.6343817085960257,\n",
              " -0.4261457063124928,\n",
              " -0.7458161098180245,\n",
              " -0.26068250449801,\n",
              " 1.6337023162759678,\n",
              " 2.4092407247805854,\n",
              " 0.8176423073269878,\n",
              " -0.3777449057817257,\n",
              " -1.2872297157552102,\n",
              " -0.12898730305382952,\n",
              " -0.8910185114103258,\n",
              " -1.126268913990101,\n",
              " -1.3817801167920576,\n",
              " -0.6433865086947731,\n",
              " -0.7491929098550546,\n",
              " -0.2843201047572215,\n",
              " 0.5362423042411325,\n",
              " -0.0017945016590230187,\n",
              " 1.1328103107831458,\n",
              " 3.194909533396294,\n",
              " 0.5868943047965863,\n",
              " -0.7199273095341256,\n",
              " -0.3709913057076653,\n",
              " 0.1929343004763889,\n",
              " -0.8020961104351955,\n",
              " -0.40250810605328086,\n",
              " -0.672652109015702,\n",
              " -0.25618010444863604,\n",
              " 0.5328655042041021,\n",
              " 0.10963989956297591,\n",
              " 1.3421719130790222,\n",
              " -1.0350953129902838,\n",
              " -1.03059291294091,\n",
              " 3.492067936654957,\n",
              " -0.44753210654701775,\n",
              " -1.4110457171129864,\n",
              " 1.3579303132518301,\n",
              " -0.3338465053003322,\n",
              " 1.476118314547889,\n",
              " -0.2134073039795861,\n",
              " -0.5972369081886928,\n",
              " -1.1465297142122826,\n",
              " 1.6708471166833014,\n",
              " 1.6730983167079878,\n",
              " 0.39891910273523484,\n",
              " 2.877490329915449,\n",
              " 0.3809095025377405,\n",
              " 2.3372023239906063,\n",
              " 0.10176069947657193,\n",
              " 0.12539829973578348,\n",
              " 1.2014719115360946,\n",
              " -0.18414170365865737,\n",
              " 0.3730303024513365,\n",
              " -0.46103930669513893,\n",
              " 0.0027078983903505707,\n",
              " 0.9741007090427235,\n",
              " -0.4846769069543507,\n",
              " -0.3608609055965746,\n",
              " -1.3761521167303405,\n",
              " -1.0632353132988692,\n",
              " 2.6253559271505225,\n",
              " -0.7638257100155192,\n",
              " -0.7064201093860047,\n",
              " -0.12110810296742554,\n",
              " -0.7930913103364481,\n",
              " -0.7638257100155192,\n",
              " -0.3811217058187561,\n",
              " 0.08375109927907717,\n",
              " -0.3732425057323521,\n",
              " 0.7658647067591904,\n",
              " 2.1323431217441033,\n",
              " 0.5047255038955165,\n",
              " -0.7908401103117614,\n",
              " 1.1564479110423573,\n",
              " 0.6870727058951509,\n",
              " 3.212919133593788,\n",
              " -0.7334345096822469,\n",
              " 0.9437095087094511,\n",
              " -0.7750817101389533,\n",
              " 0.9414583086847639,\n",
              " -0.9225353117559416,\n",
              " -1.3558913165081588,\n",
              " 1.165452711141105,\n",
              " -0.8583761110523666,\n",
              " -0.7165505094970955,\n",
              " -1.2613409154713113,\n",
              " -0.4283969063371796,\n",
              " -0.7165505094970955,\n",
              " -0.39575450597922046,\n",
              " -1.0913753136074549,\n",
              " 0.0747462991803296,\n",
              " -0.7323089096699035,\n",
              " 0.26272150124168114,\n",
              " 0.47545990357458784,\n",
              " -0.46103930669513893,\n",
              " -0.9202841117312548,\n",
              " -1.0148345127681022,\n",
              " -0.4790489068926337,\n",
              " -1.0936265136321417,\n",
              " -0.8088497105092561,\n",
              " 1.468239114461485,\n",
              " 1.8059191181645116,\n",
              " 1.0405111097709854,\n",
              " 0.8322751074874521,\n",
              " 0.3246295019205694,\n",
              " -0.2212865040659901,\n",
              " -0.11322890288102155]"
            ]
          },
          "metadata": {},
          "execution_count": 10
        }
      ]
    },
    {
      "cell_type": "code",
      "source": [
        "sns.histplot(total_bill)"
      ],
      "metadata": {
        "colab": {
          "base_uri": "https://localhost:8080/",
          "height": 449
        },
        "id": "uYk_Q69CqS_o",
        "outputId": "dc89d836-3365-4294-d3b0-eb279e50f1fa"
      },
      "execution_count": 11,
      "outputs": [
        {
          "output_type": "execute_result",
          "data": {
            "text/plain": [
              "<Axes: ylabel='Count'>"
            ]
          },
          "metadata": {},
          "execution_count": 11
        },
        {
          "output_type": "display_data",
          "data": {
            "text/plain": [
              "<Figure size 640x480 with 1 Axes>"
            ],
            "image/png": "[encoded data removed]"
          },
          "metadata": {}
        }
      ]
    },
    {
      "cell_type": "code",
      "source": [
        "sns.histplot(normalised_data)"
      ],
      "metadata": {
        "colab": {
          "base_uri": "https://localhost:8080/",
          "height": 449
        },
        "id": "oYPiDyr7qjsd",
        "outputId": "a7f10e06-d25c-4a8d-bae4-a33511620a8e"
      },
      "execution_count": 12,
      "outputs": [
        {
          "output_type": "execute_result",
          "data": {
            "text/plain": [
              "<Axes: ylabel='Count'>"
            ]
          },
          "metadata": {},
          "execution_count": 12
        },
        {
          "output_type": "display_data",
          "data": {
            "text/plain": [
              "<Figure size 640x480 with 1 Axes>"
            ],
            "image/png": "[encoded data removed]"
          },
          "metadata": {}
        }
      ]
    },
    {
      "cell_type": "code",
      "source": [
        "from sklearn.preprocessing import StandardScaler\n",
        "scaler = StandardScaler()\n",
        "scaler.fit(df[['total_bill']]) ##calculate mean=0 and std=1\n",
        "scaler.transform(df[['total_bill']])##scale down to a specific range"
      ],
      "metadata": {
        "colab": {
          "base_uri": "https://localhost:8080/"
        },
        "id": "F9Fqg4HQq5P9",
        "outputId": "ad8028c7-cc37-43a3-cf77-d14f76e0e34b"
      },
      "execution_count": 14,
      "outputs": [
        {
          "output_type": "execute_result",
          "data": {
            "text/plain": [
              "array([[-3.14711305e-01],\n",
              "       [-1.06323531e+00],\n",
              "       [ 1.37779900e-01],\n",
              "       [ 4.38315103e-01],\n",
              "       [ 5.40744704e-01],\n",
              "       [ 6.19536705e-01],\n",
              "       [-1.23995452e+00],\n",
              "       [ 7.98507107e-01],\n",
              "       [-5.34203307e-01],\n",
              "       [-5.63468908e-01],\n",
              "       [-1.07111451e+00],\n",
              "       [ 1.74175992e+00],\n",
              "       [-4.91430507e-01],\n",
              "       [-1.52624903e-01],\n",
              "       [-5.57840908e-01],\n",
              "       [ 2.01939101e-01],\n",
              "       [-1.06436091e+00],\n",
              "       [-3.93503306e-01],\n",
              "       [-3.16962505e-01],\n",
              "       [ 9.72582994e-02],\n",
              "       [-2.10030504e-01],\n",
              "       [ 5.67366990e-02],\n",
              "       [-4.52034507e-01],\n",
              "       [ 2.21000952e+00],\n",
              "       [ 3.83349840e-03],\n",
              "       [-2.22412104e-01],\n",
              "       [-7.22178510e-01],\n",
              "       [-7.98719310e-01],\n",
              "       [ 2.15446301e-01],\n",
              "       [-1.53017018e-02],\n",
              "       [-1.15215771e+00],\n",
              "       [-1.61629703e-01],\n",
              "       [-5.31952107e-01],\n",
              "       [ 1.01760699e-01],\n",
              "       [-2.25788904e-01],\n",
              "       [ 4.81087904e-01],\n",
              "       [-3.91252106e-01],\n",
              "       [-3.21464905e-01],\n",
              "       [-1.23359303e-01],\n",
              "       [ 1.29264551e+00],\n",
              "       [-4.21643306e-01],\n",
              "       [-2.61808105e-01],\n",
              "       [-6.58019309e-01],\n",
              "       [-1.13752491e+00],\n",
              "       [ 1.19471831e+00],\n",
              "       [-1.68383303e-01],\n",
              "       [ 2.75103101e-01],\n",
              "       [ 1.41983831e+00],\n",
              "       [ 9.86482309e-01],\n",
              "       [-1.96523304e-01],\n",
              "       [-8.15603311e-01],\n",
              "       [-1.06886331e+00],\n",
              "       [ 1.69110792e+00],\n",
              "       [-1.10825931e+00],\n",
              "       [ 6.49927905e-01],\n",
              "       [-3.33113020e-02],\n",
              "       [ 2.05129992e+00],\n",
              "       [ 7.45603907e-01],\n",
              "       [-9.61931312e-01],\n",
              "       [ 3.20616553e+00],\n",
              "       [ 5.67366990e-02],\n",
              "       [-6.72652109e-01],\n",
              "       [-9.86694512e-01],\n",
              "       [-1.68383303e-01],\n",
              "       [-2.47175304e-01],\n",
              "       [ 3.30990987e-02],\n",
              "       [-3.75493706e-01],\n",
              "       [-1.88154652e+00],\n",
              "       [ 4.99830989e-02],\n",
              "       [-5.37580108e-01],\n",
              "       [-8.74134511e-01],\n",
              "       [-3.05706505e-01],\n",
              "       [ 7.96255907e-01],\n",
              "       [ 6.18411105e-01],\n",
              "       [-5.69096908e-01],\n",
              "       [-1.04410011e+00],\n",
              "       [-2.10030504e-01],\n",
              "       [ 8.34526308e-01],\n",
              "       [ 3.34759902e-01],\n",
              "       [-2.80943305e-01],\n",
              "       [-3.89393021e-02],\n",
              "       [-3.51856105e-01],\n",
              "       [-1.09362651e+00],\n",
              "       [ 1.45135511e+00],\n",
              "       [-4.28396906e-01],\n",
              "       [ 1.69335912e+00],\n",
              "       [-7.60448910e-01],\n",
              "       [-1.69508903e-01],\n",
              "       [ 5.54251904e-01],\n",
              "       [ 1.54663900e-01],\n",
              "       [ 1.03375751e+00],\n",
              "       [ 3.04368702e-01],\n",
              "       [-1.57988572e+00],\n",
              "       [-3.90126506e-01],\n",
              "       [ 3.33634302e-01],\n",
              "       [ 2.29442952e+00],\n",
              "       [ 8.43531108e-01],\n",
              "       [-8.73008911e-01],\n",
              "       [ 1.37779900e-01],\n",
              "       [-8.24608111e-01],\n",
              "       [-9.49549712e-01],\n",
              "       [-4.95932907e-01],\n",
              "       [ 2.75930233e+00],\n",
              "       [ 2.96489502e-01],\n",
              "       [ 1.27649500e-01],\n",
              "       [-4.98184107e-01],\n",
              "       [ 7.92486992e-02],\n",
              "       [ 6.10531905e-01],\n",
              "       [-1.74011304e-01],\n",
              "       [-6.16372108e-01],\n",
              "       [-6.51265709e-01],\n",
              "       [-1.41104572e+00],\n",
              "       [ 2.05805352e+00],\n",
              "       [ 4.68706304e-01],\n",
              "       [ 6.66811906e-01],\n",
              "       [-2.78692105e-01],\n",
              "       [ 1.14181511e+00],\n",
              "       [-1.02834171e+00],\n",
              "       [-8.27984911e-01],\n",
              "       [ 4.83339104e-01],\n",
              "       [-9.11279312e-01],\n",
              "       [-7.16550509e-01],\n",
              "       [-6.22000108e-01],\n",
              "       [-4.31773706e-01],\n",
              "       [-8.22356911e-01],\n",
              "       [ 1.12718231e+00],\n",
              "       [-1.26809452e+00],\n",
              "       [-5.92734508e-01],\n",
              "       [-9.46172912e-01],\n",
              "       [ 3.41513502e-01],\n",
              "       [-7.94609025e-02],\n",
              "       [ 5.44854990e-02],\n",
              "       [-9.69810512e-01],\n",
              "       [-8.47120111e-01],\n",
              "       [-1.71760104e-01],\n",
              "       [-1.26922012e+00],\n",
              "       [-1.06436091e+00],\n",
              "       [-6.34381709e-01],\n",
              "       [-4.26145706e-01],\n",
              "       [-7.45816110e-01],\n",
              "       [-2.60682504e-01],\n",
              "       [ 1.63370232e+00],\n",
              "       [ 2.40924072e+00],\n",
              "       [ 8.17642307e-01],\n",
              "       [-3.77744906e-01],\n",
              "       [-1.28722972e+00],\n",
              "       [-1.28987303e-01],\n",
              "       [-8.91018511e-01],\n",
              "       [-1.12626891e+00],\n",
              "       [-1.38178012e+00],\n",
              "       [-6.43386509e-01],\n",
              "       [-7.49192910e-01],\n",
              "       [-2.84320105e-01],\n",
              "       [ 5.36242304e-01],\n",
              "       [-1.79450166e-03],\n",
              "       [ 1.13281031e+00],\n",
              "       [ 3.19490953e+00],\n",
              "       [ 5.86894305e-01],\n",
              "       [-7.19927310e-01],\n",
              "       [-3.70991306e-01],\n",
              "       [ 1.92934300e-01],\n",
              "       [-8.02096110e-01],\n",
              "       [-4.02508106e-01],\n",
              "       [-6.72652109e-01],\n",
              "       [-2.56180104e-01],\n",
              "       [ 5.32865504e-01],\n",
              "       [ 1.09639900e-01],\n",
              "       [ 1.34217191e+00],\n",
              "       [-1.03509531e+00],\n",
              "       [-1.03059291e+00],\n",
              "       [ 3.49206794e+00],\n",
              "       [-4.47532107e-01],\n",
              "       [-1.41104572e+00],\n",
              "       [ 1.35793031e+00],\n",
              "       [-3.33846505e-01],\n",
              "       [ 1.47611831e+00],\n",
              "       [-2.13407304e-01],\n",
              "       [-5.97236908e-01],\n",
              "       [-1.14652971e+00],\n",
              "       [ 1.67084712e+00],\n",
              "       [ 1.67309832e+00],\n",
              "       [ 3.98919103e-01],\n",
              "       [ 2.87749033e+00],\n",
              "       [ 3.80909503e-01],\n",
              "       [ 2.33720232e+00],\n",
              "       [ 1.01760699e-01],\n",
              "       [ 1.25398300e-01],\n",
              "       [ 1.20147191e+00],\n",
              "       [-1.84141704e-01],\n",
              "       [ 3.73030302e-01],\n",
              "       [-4.61039307e-01],\n",
              "       [ 2.70789839e-03],\n",
              "       [ 9.74100709e-01],\n",
              "       [-4.84676907e-01],\n",
              "       [-3.60860906e-01],\n",
              "       [-1.37615212e+00],\n",
              "       [-1.06323531e+00],\n",
              "       [ 2.62535593e+00],\n",
              "       [-7.63825710e-01],\n",
              "       [-7.06420109e-01],\n",
              "       [-1.21108103e-01],\n",
              "       [-7.93091310e-01],\n",
              "       [-7.63825710e-01],\n",
              "       [-3.81121706e-01],\n",
              "       [ 8.37510993e-02],\n",
              "       [-3.73242506e-01],\n",
              "       [ 7.65864707e-01],\n",
              "       [ 2.13234312e+00],\n",
              "       [ 5.04725504e-01],\n",
              "       [-7.90840110e-01],\n",
              "       [ 1.15644791e+00],\n",
              "       [ 6.87072706e-01],\n",
              "       [ 3.21291913e+00],\n",
              "       [-7.33434510e-01],\n",
              "       [ 9.43709509e-01],\n",
              "       [-7.75081710e-01],\n",
              "       [ 9.41458309e-01],\n",
              "       [-9.22535312e-01],\n",
              "       [-1.35589132e+00],\n",
              "       [ 1.16545271e+00],\n",
              "       [-8.58376111e-01],\n",
              "       [-7.16550509e-01],\n",
              "       [-1.26134092e+00],\n",
              "       [-4.28396906e-01],\n",
              "       [-7.16550509e-01],\n",
              "       [-3.95754506e-01],\n",
              "       [-1.09137531e+00],\n",
              "       [ 7.47462992e-02],\n",
              "       [-7.32308910e-01],\n",
              "       [ 2.62721501e-01],\n",
              "       [ 4.75459904e-01],\n",
              "       [-4.61039307e-01],\n",
              "       [-9.20284112e-01],\n",
              "       [-1.01483451e+00],\n",
              "       [-4.79048907e-01],\n",
              "       [-1.09362651e+00],\n",
              "       [-8.08849711e-01],\n",
              "       [ 1.46823911e+00],\n",
              "       [ 1.80591912e+00],\n",
              "       [ 1.04051111e+00],\n",
              "       [ 8.32275107e-01],\n",
              "       [ 3.24629502e-01],\n",
              "       [-2.21286504e-01],\n",
              "       [-1.13228903e-01]])"
            ]
          },
          "metadata": {},
          "execution_count": 14
        }
      ]
    },
    {
      "cell_type": "code",
      "source": [],
      "metadata": {
        "id": "PoM3bynWru2s"
      },
      "execution_count": null,
      "outputs": []
    }
  ]
}